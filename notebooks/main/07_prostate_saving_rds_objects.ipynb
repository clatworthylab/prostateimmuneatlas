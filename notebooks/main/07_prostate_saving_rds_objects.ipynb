{
 "cells": [
  {
   "cell_type": "code",
   "execution_count": 1,
   "id": "a50d4653",
   "metadata": {},
   "outputs": [],
   "source": [
    "setwd('/lustre/scratch117/cellgen/team297/kt16/Prostate_analysis/scanpy')"
   ]
  },
  {
   "cell_type": "code",
   "execution_count": 2,
   "id": "b5de781b",
   "metadata": {},
   "outputs": [
    {
     "name": "stderr",
     "output_type": "stream",
     "text": [
      "X -> counts\n",
      "\n"
     ]
    },
    {
     "data": {
      "text/plain": [
       "An object of class Seurat \n",
       "33538 features across 17108 samples within 1 assay \n",
       "Active assay: RNA (33538 features, 0 variable features)\n",
       " 2 dimensional reductions calculated: pca, umap"
      ]
     },
     "metadata": {},
     "output_type": "display_data"
    }
   ],
   "source": [
    "# soupx raw 'counts'\n",
    "\n",
    "sceasy::convertFormat('out/prostate-raw_soupx_220621.h5ad', from=\"anndata\", to=\"seurat\", outFile='out/prostate-raw_soupx_220621.rds')"
   ]
  },
  {
   "cell_type": "code",
   "execution_count": 3,
   "id": "61302de1",
   "metadata": {},
   "outputs": [
    {
     "name": "stderr",
     "output_type": "stream",
     "text": [
      "X -> counts\n",
      "\n"
     ]
    },
    {
     "data": {
      "text/plain": [
       "An object of class Seurat \n",
       "1487 features across 17108 samples within 1 assay \n",
       "Active assay: RNA (1487 features, 0 variable features)\n",
       " 2 dimensional reductions calculated: pca, umap"
      ]
     },
     "metadata": {},
     "output_type": "display_data"
    }
   ],
   "source": [
    "# scaled counts. don't use\n",
    "\n",
    "sceasy::convertFormat('out/prostate_220621.h5ad', from=\"anndata\", to=\"seurat\", outFile='out/prostate_220621.rds')"
   ]
  },
  {
   "cell_type": "code",
   "execution_count": 4,
   "id": "8bc5dd11",
   "metadata": {},
   "outputs": [
    {
     "name": "stderr",
     "output_type": "stream",
     "text": [
      "X -> counts\n",
      "\n"
     ]
    },
    {
     "data": {
      "text/plain": [
       "An object of class Seurat \n",
       "21955 features across 17108 samples within 1 assay \n",
       "Active assay: RNA (21955 features, 0 variable features)\n",
       " 2 dimensional reductions calculated: pca, umap"
      ]
     },
     "metadata": {},
     "output_type": "display_data"
    }
   ],
   "source": [
    "# normalized counts. don't use\n",
    "\n",
    "sceasy::convertFormat('out/prostate_norm_220621.h5ad', from=\"anndata\", to=\"seurat\", outFile='out/prostate_norm_220621.rds')"
   ]
  },
  {
   "cell_type": "code",
   "execution_count": 5,
   "id": "91932111",
   "metadata": {},
   "outputs": [
    {
     "name": "stderr",
     "output_type": "stream",
     "text": [
      "X -> counts\n",
      "\n"
     ]
    },
    {
     "data": {
      "text/plain": [
       "An object of class Seurat \n",
       "33538 features across 17108 samples within 1 assay \n",
       "Active assay: RNA (33538 features, 0 variable features)\n",
       " 2 dimensional reductions calculated: pca, umap"
      ]
     },
     "metadata": {},
     "output_type": "display_data"
    }
   ],
   "source": [
    "# raw counts\n",
    "sceasy::convertFormat('out/prostate-rawcounts_220621.h5ad', from=\"anndata\", to=\"seurat\", outFile='out/prostate-rawcounts_220621')"
   ]
  },
  {
   "cell_type": "code",
   "execution_count": null,
   "id": "6713f17e",
   "metadata": {},
   "outputs": [],
   "source": []
  }
 ],
 "metadata": {
  "kernelspec": {
   "display_name": "R",
   "language": "R",
   "name": "ir"
  },
  "language_info": {
   "codemirror_mode": "r",
   "file_extension": ".r",
   "mimetype": "text/x-r-source",
   "name": "R",
   "pygments_lexer": "r",
   "version": "4.0.3"
  }
 },
 "nbformat": 4,
 "nbformat_minor": 5
}
