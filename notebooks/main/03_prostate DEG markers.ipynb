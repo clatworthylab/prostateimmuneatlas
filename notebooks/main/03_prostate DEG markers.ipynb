{
 "cells": [
  {
   "cell_type": "code",
   "execution_count": 1,
   "metadata": {
    "scrolled": true
   },
   "outputs": [
    {
     "name": "stderr",
     "output_type": "stream",
     "text": [
      "/home/jovyan/my-conda-envs/mypython3/lib/python3.7/site-packages/dask/config.py:161: YAMLLoadWarning: calling yaml.load() without Loader=... is deprecated, as the default Loader is unsafe. Please read https://msg.pyyaml.org/load for full details.\n",
      "  data = yaml.load(f.read()) or {}\n",
      "/home/jovyan/my-conda-envs/mypython3/lib/python3.7/site-packages/tensorflow/python/framework/dtypes.py:526: FutureWarning: Passing (type, 1) or '1type' as a synonym of type is deprecated; in a future version of numpy, it will be understood as (type, (1,)) / '(1,)type'.\n",
      "  _np_qint8 = np.dtype([(\"qint8\", np.int8, 1)])\n",
      "/home/jovyan/my-conda-envs/mypython3/lib/python3.7/site-packages/tensorflow/python/framework/dtypes.py:527: FutureWarning: Passing (type, 1) or '1type' as a synonym of type is deprecated; in a future version of numpy, it will be understood as (type, (1,)) / '(1,)type'.\n",
      "  _np_quint8 = np.dtype([(\"quint8\", np.uint8, 1)])\n",
      "/home/jovyan/my-conda-envs/mypython3/lib/python3.7/site-packages/tensorflow/python/framework/dtypes.py:528: FutureWarning: Passing (type, 1) or '1type' as a synonym of type is deprecated; in a future version of numpy, it will be understood as (type, (1,)) / '(1,)type'.\n",
      "  _np_qint16 = np.dtype([(\"qint16\", np.int16, 1)])\n",
      "/home/jovyan/my-conda-envs/mypython3/lib/python3.7/site-packages/tensorflow/python/framework/dtypes.py:529: FutureWarning: Passing (type, 1) or '1type' as a synonym of type is deprecated; in a future version of numpy, it will be understood as (type, (1,)) / '(1,)type'.\n",
      "  _np_quint16 = np.dtype([(\"quint16\", np.uint16, 1)])\n",
      "/home/jovyan/my-conda-envs/mypython3/lib/python3.7/site-packages/tensorflow/python/framework/dtypes.py:530: FutureWarning: Passing (type, 1) or '1type' as a synonym of type is deprecated; in a future version of numpy, it will be understood as (type, (1,)) / '(1,)type'.\n",
      "  _np_qint32 = np.dtype([(\"qint32\", np.int32, 1)])\n",
      "/home/jovyan/my-conda-envs/mypython3/lib/python3.7/site-packages/tensorflow/python/framework/dtypes.py:535: FutureWarning: Passing (type, 1) or '1type' as a synonym of type is deprecated; in a future version of numpy, it will be understood as (type, (1,)) / '(1,)type'.\n",
      "  np_resource = np.dtype([(\"resource\", np.ubyte, 1)])\n"
     ]
    },
    {
     "name": "stdout",
     "output_type": "stream",
     "text": [
      "scanpy==1.4.5.post2 anndata==0.6.22.post1 umap==0.3.10 numpy==1.17.2 scipy==1.4.1 pandas==0.25.1 scikit-learn==0.22.1 statsmodels==0.11.0rc1 python-igraph==0.7.1 louvain==0.6.1\n"
     ]
    }
   ],
   "source": [
    "import numpy as np\n",
    "import pandas as pd\n",
    "import scanpy as sc\n",
    "import scrublet as scr\n",
    "import os\n",
    "import warnings\n",
    "import functools\n",
    "import seaborn as sns\n",
    "import scipy.stats\n",
    "import anndata\n",
    "import matplotlib\n",
    "import diffxpy.api as de\n",
    "matplotlib.rcParams['pdf.fonttype'] = 42\n",
    "matplotlib.rcParams['ps.fonttype'] = 42\n",
    "\n",
    "warnings.filterwarnings('ignore')\n",
    "os.chdir(os.path.expanduser('/home/jovyan/Prostate_analysis/scanpy'))\n",
    "sc.settings.verbosity = 1\n",
    "sc.logging.print_versions()"
   ]
  },
  {
   "cell_type": "code",
   "execution_count": 2,
   "metadata": {},
   "outputs": [],
   "source": [
    "def exportDEres(adata, key, column, filename):\n",
    "    scores = pd.DataFrame(data = adata.uns[key]['scores'][column], index = adata.uns[key]['names'][column])\n",
    "    lfc = pd.DataFrame(data = adata.uns[key]['logfoldchanges'][column], index = adata.uns[key]['names'][column])\n",
    "    pvals = pd.DataFrame(data = adata.uns[key]['pvals'][column], index = adata.uns[key]['names'][column])\n",
    "    padj = pd.DataFrame(data = adata.uns[key]['pvals_adj'][column], index = adata.uns[key]['names'][column])\n",
    "    scores = scores.loc[scores.index.dropna()]\n",
    "    lfc = lfc.loc[lfc.index.dropna()]\n",
    "    pvals = pvals.loc[pvals.index.dropna()]\n",
    "    padj = padj.loc[padj.index.dropna()]\n",
    "    dfs = [scores, lfc, pvals, padj]\n",
    "    df_final = functools.reduce(lambda left,right: pd.merge(left,right,left_index = True, right_index = True), dfs)\n",
    "    df_final.columns = ['scores', 'logfoldchanges', 'pvals', 'pvals_adj']\n",
    "\n",
    "    df_final.to_csv(filename, sep = '\\t')"
   ]
  },
  {
   "cell_type": "code",
   "execution_count": 3,
   "metadata": {},
   "outputs": [],
   "source": [
    "results_file = 'out/prostate.h5ad'\n",
    "adata = sc.read_h5ad(results_file)\n",
    "adata = adata[~(adata.obs['celltype'].isin(['Sperm','MNP','T cell', 'B cell', 'NK cell']))]\n",
    "ndata = adata[adata.obs['group'] == 'normal']\n",
    "\n",
    "### do wilcoxon test\n",
    "sc.tl.rank_genes_groups(ndata, groupby = 'celltype', n_genes = 30000, method = 'wilcoxon')\n",
    "sc.tl.filter_rank_genes_groups(ndata, min_fold_change=1)\n",
    "outpath1a = 'out/DEG/normal celltype markers/'\n",
    "outpath1b = 'out/DEG/normal celltype markers/full/'\n",
    "outpath2a = 'out/DEG/tumor vs normal/'\n",
    "outpath2b = 'out/DEG/tumor vs normal/full/'\n",
    "if not os.path.exists(outpath1a):\n",
    "        os.makedirs(outpath1a)\n",
    "if not os.path.exists(outpath2a):\n",
    "        os.makedirs(outpath2a)\n",
    "if not os.path.exists(outpath1b):\n",
    "        os.makedirs(outpath1b)\n",
    "if not os.path.exists(outpath2b):\n",
    "        os.makedirs(outpath2b)\n",
    "\n",
    "for x in list(set(ndata.obs['celltype'])):\n",
    "    exportDEres(ndata, 'rank_genes_groups_filtered', str(x), outpath1a+str(x.replace('/','-'))+'_normal.txt')\n",
    "    exportDEres(ndata, 'rank_genes_groups', str(x), outpath1b+str(x.replace('/','-'))+'_normal.txt')\n",
    "for i in list(set(adata.obs['celltype'])):\n",
    "    adatax = adata[adata.obs['celltype'] == i]\n",
    "    sc.tl.rank_genes_groups(adatax, groupby = 'group', method = 'wilcoxon', n_genes=30000)\n",
    "    sc.tl.filter_rank_genes_groups(adatax, min_fold_change=1, max_out_group_fraction=1)\n",
    "    exportDEres(adatax, 'rank_genes_groups_filtered', 'tumor', outpath2a+str(i)+'_tumor_vs_normal.txt')\n",
    "    exportDEres(adatax, 'rank_genes_groups', 'tumor', outpath2b+str(i)+'_tumor_vs_normal.txt')"
   ]
  },
  {
   "cell_type": "code",
   "execution_count": 4,
   "metadata": {},
   "outputs": [],
   "source": [
    "results_file = 'out/mnp.integrated.h5ad'\n",
    "adata = sc.read_h5ad(results_file)\n",
    "ndata = adata[adata.obs['group'] == 'normal']\n",
    "\n",
    "### do wilcoxon test for normal celltype markers\n",
    "sc.tl.rank_genes_groups(ndata, groupby = 'celltype-immune', n_genes = 30000, method = 'wilcoxon')\n",
    "sc.tl.filter_rank_genes_groups(ndata, min_fold_change=1)\n",
    "    \n",
    "### do wilcoxon test\n",
    "sc.tl.rank_genes_groups(ndata, groupby = 'celltype-immune', n_genes = 30000, method = 'wilcoxon')\n",
    "for x in list(set(ndata.obs['celltype-immune'])):\n",
    "    exportDEres(ndata, 'rank_genes_groups_filtered', str(x), outpath1a+str(x.replace('/','-'))+'_normal.txt')\n",
    "    exportDEres(ndata, 'rank_genes_groups', str(x), outpath1b+str(x.replace('/','-'))+'_normal.txt')\n",
    "for i in list(set(adata.obs['celltype-immune'])):\n",
    "    adatax = adata[adata.obs['celltype-immune'] == i]\n",
    "    sc.tl.rank_genes_groups(adatax, groupby = 'group', method = 'wilcoxon', n_genes=30000)\n",
    "    sc.tl.filter_rank_genes_groups(adatax, min_fold_change=1, max_out_group_fraction=1)\n",
    "    exportDEres(adatax, 'rank_genes_groups_filtered', 'tumor', outpath2a+str(i)+'_tumor_vs_normal.txt')\n",
    "    exportDEres(adatax, 'rank_genes_groups', 'tumor', outpath2b+str(i)+'_tumor_vs_normal.txt')"
   ]
  },
  {
   "cell_type": "code",
   "execution_count": 5,
   "metadata": {
    "scrolled": true
   },
   "outputs": [],
   "source": [
    "results_file = 'out/lymphoid.h5ad'\n",
    "adata = sc.read_h5ad(results_file)\n",
    "ndata = adata[adata.obs['group'] == 'normal']\n",
    "\n",
    "### do wilcoxon test for normal celltype markers\n",
    "sc.tl.rank_genes_groups(ndata, groupby = 'celltype-immune', n_genes = 30000, method = 'wilcoxon')\n",
    "sc.tl.filter_rank_genes_groups(ndata, min_fold_change=1)\n",
    "    \n",
    "### do wilcoxon test\n",
    "sc.tl.rank_genes_groups(ndata, groupby = 'celltype-immune', n_genes = 30000, method = 'wilcoxon')\n",
    "for x in list(set(ndata.obs['celltype-immune'])):\n",
    "    exportDEres(ndata, 'rank_genes_groups_filtered', str(x), outpath1a+str(x.replace('/','-'))+'_normal.txt')\n",
    "    exportDEres(ndata, 'rank_genes_groups', str(x), outpath1b+str(x.replace('/','-'))+'_normal.txt')\n",
    "for i in list(set(adata.obs['celltype-immune'])):\n",
    "    adatax = adata[adata.obs['celltype-immune'] == i]\n",
    "    sc.tl.rank_genes_groups(adatax, groupby = 'group', method = 'wilcoxon', n_genes=30000)\n",
    "    sc.tl.filter_rank_genes_groups(adatax, min_fold_change=1, max_out_group_fraction=1)\n",
    "    exportDEres(adatax, 'rank_genes_groups_filtered', 'tumor', outpath2a+str(i)+'_tumor_vs_normal.txt')\n",
    "    exportDEres(adatax, 'rank_genes_groups', 'tumor', outpath2b+str(i)+'_tumor_vs_normal.txt')"
   ]
  },
  {
   "cell_type": "code",
   "execution_count": null,
   "metadata": {},
   "outputs": [],
   "source": []
  }
 ],
 "metadata": {
  "kernelspec": {
   "display_name": "Python (mypython3)",
   "language": "python",
   "name": "mypython3"
  },
  "language_info": {
   "codemirror_mode": {
    "name": "ipython",
    "version": 3
   },
   "file_extension": ".py",
   "mimetype": "text/x-python",
   "name": "python",
   "nbconvert_exporter": "python",
   "pygments_lexer": "ipython3",
   "version": "3.7.8"
  }
 },
 "nbformat": 4,
 "nbformat_minor": 2
}
