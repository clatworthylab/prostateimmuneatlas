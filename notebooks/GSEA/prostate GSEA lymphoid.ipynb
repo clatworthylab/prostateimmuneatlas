{
 "cells": [
  {
   "cell_type": "code",
   "execution_count": 1,
   "metadata": {},
   "outputs": [
    {
     "name": "stderr",
     "output_type": "stream",
     "text": [
      "/home/jovyan/my-conda-envs/mypython3/lib/python3.7/site-packages/dask/config.py:161: YAMLLoadWarning: calling yaml.load() without Loader=... is deprecated, as the default Loader is unsafe. Please read https://msg.pyyaml.org/load for full details.\n",
      "  data = yaml.load(f.read()) or {}\n"
     ]
    },
    {
     "name": "stdout",
     "output_type": "stream",
     "text": [
      "scanpy==1.4.5.post2 anndata==0.6.22.post1 umap==0.3.10 numpy==1.17.2 scipy==1.4.1 pandas==0.25.1 scikit-learn==0.22.1 statsmodels==0.11.0rc1 python-igraph==0.7.1 louvain==0.6.1\n"
     ]
    },
    {
     "data": {
      "text/plain": [
       "AnnData object with n_obs × n_vars = 1694 × 2178 \n",
       "    obs: 'age', 'barcode', 'batch', 'group', 'highest_GLEASON_score', 'mri_grading', 'name', 'patient', 'pool', 'psa', 'sample', 'scrublet_score', 'scrublet_cluster_score', 'bh_pval', 'is_doublet', 'n_genes', 'percent_mito', 'n_counts', 'S_score', 'G2M_score', 'phase', 'leiden', 'celltype', 'Treg_score', 'CD4 NV/CM rest_score', 'CD4/CD8 rest_score', 'IFN Response_score', 'Proliferation_score', 'CD8 Cytotoxic_score', 'CD8 Cytokine_score', 'CD69+Trm_score', 'CD69-Trm_score', 'Trm_score', 'Tcm/Tem_score', 'GSE41867 Chronic-acute CD8+ Up_score', 'GSE41870 CD8+ LCMV Chronic-Acute UP_score', 'GSE9650 Chronic vs acute LCMV-specific CD8 T cells_score', 'celltype-immune', 'celltype-immune_group', 'K562_score', 'ADCC_score', 'cytokine_score', 'common_score', '__is_in_cluster__'\n",
       "    var: 'gene_ids', 'feature_types', 'n_cells', 'highly_variable', 'means', 'dispersions', 'dispersions_norm'\n",
       "    uns: 'celltype-immune_colors', 'celltype_colors', 'dendrogram_leiden', 'group_colors', 'highest_GLEASON_score_colors', 'leiden', 'leiden_colors', 'neighbors', 'patient_colors', 'pca', 'phase_colors', 'rank_genes_groups', 'rank_genes_groups_filtered', 'umap'\n",
       "    obsm: 'X_pca', 'X_umap'\n",
       "    varm: 'PCs'"
      ]
     },
     "execution_count": 1,
     "metadata": {},
     "output_type": "execute_result"
    }
   ],
   "source": [
    "import numpy as np\n",
    "import pandas as pd\n",
    "import scanpy as sc\n",
    "import scrublet as scr\n",
    "import os\n",
    "import warnings\n",
    "import functools\n",
    "import seaborn as sns\n",
    "import scipy.stats\n",
    "import anndata\n",
    "import matplotlib\n",
    "matplotlib.rcParams['pdf.fonttype'] = 42\n",
    "matplotlib.rcParams['ps.fonttype'] = 42\n",
    "\n",
    "warnings.filterwarnings('ignore')\n",
    "os.chdir(os.path.expanduser('/home/jovyan/Prostate_analysis/scanpy'))\n",
    "sc.settings.verbosity = 3\n",
    "sc.logging.print_versions()\n",
    "\n",
    "results_file = 'out/lymphoid.h5ad'\n",
    "\n",
    "adata = sc.read_h5ad(results_file)\n",
    "adata"
   ]
  },
  {
   "cell_type": "code",
   "execution_count": 6,
   "metadata": {},
   "outputs": [],
   "source": [
    "### run preranked GSEA\n",
    "def rankList(deg_file, remove_ribo_mito = False):\n",
    "    # read in the files and do some ranking calculations\n",
    "    deg = pd.read_csv(deg_file, sep = '\\t', index_col = 0)\n",
    "    if remove_ribo_mito:\n",
    "        # remove ribosomal and mitochondrial genes\n",
    "        deg = deg[~deg.index.str.contains('RPS|RPL|MT-')]\n",
    "\n",
    "    # convert to negative log10 pval\n",
    "    deg['neglog10pval'] = [-1*np.log10(p) for p in deg['pvals']]\n",
    "    # convert inf values to max machine number\n",
    "    try:\n",
    "        deg['neglog10pval'].replace(np.inf, -1*np.log10(10**-308), inplace = True)\n",
    "    except:\n",
    "        pass\n",
    "    try:    \n",
    "        deg['neglog10pval'].replace(-np.inf, -1*np.log10(10**308), inplace = True)\n",
    "    except:\n",
    "        pass\n",
    "    deg['rank'] = [p*np.sign(lfc) for p, lfc in zip(deg['neglog10pval'], deg['logfoldchanges'])]\n",
    "    deg = deg.reset_index(drop = False)\n",
    "    return(deg[['index', 'rank']])\n",
    "# quickly prep the files\n",
    "rnklist1 = {}\n",
    "rnklist2 = {}\n",
    "for x in list(adata.obs['celltype-immune'].cat.categories):\n",
    "    rl = rankList('out/DEG/normal celltype markers/full/'+x+'_normal.txt', True)\n",
    "    rnklist1[x] = rl\n",
    "for x in list(adata.obs['celltype-immune'].cat.categories):\n",
    "    rl = rankList('out/DEG/tumor vs normal/full/'+x+'_tumor_vs_normal.txt', True)\n",
    "    rnklist2[x] = rl"
   ]
  },
  {
   "cell_type": "code",
   "execution_count": null,
   "metadata": {},
   "outputs": [
    {
     "name": "stderr",
     "output_type": "stream",
     "text": [
      "2020-04-06 21:05:48,137 Parsing data files for GSEA.............................\n",
      "2020-04-06 21:09:04,570 2527 gene_sets have been filtered out when max_size=500 and min_size=10\n",
      "2020-04-06 21:09:04,572 4823 gene_sets used for further statistical testing.....\n",
      "2020-04-06 21:09:04,573 Start to run GSEA...Might take a while..................\n"
     ]
    }
   ],
   "source": [
    "# run preranked gsea\n",
    "import gseapy as gp\n",
    "for x in list(adata.obs['celltype-immune'].cat.categories):\n",
    "    pre_res = gp.prerank(rnk=rnklist1[x],\n",
    "                         gene_sets='dataset/c5.bp.v7.0.symbols.gmt',\n",
    "                         processes=10,\n",
    "                         min_size=10,\n",
    "                         max_size=500,\n",
    "                         permutation_num=1000, # reduce number to speed up testing\n",
    "                         no_plot=True,\n",
    "                         verbose=True)\n",
    "    pre_res.res2d.to_csv('out/GSEA/'+str(x)+'_go_prgsea_normal.txt', sep ='\\t')\n",
    "\n",
    "for x in list(adata.obs['celltype-immune'].cat.categories):\n",
    "    pre_res = gp.prerank(rnk=rnklist2[x],\n",
    "                         gene_sets='dataset/c5.bp.v7.0.symbols.gmt',\n",
    "                         processes=10,\n",
    "                         min_size=10,\n",
    "                         max_size=500,\n",
    "                         permutation_num=1000, # reduce number to speed up testing\n",
    "                         no_plot=True,\n",
    "                         verbose=True)\n",
    "    pre_res.res2d.to_csv('out/GSEA/'+str(x)+'_go_prgsea_tumor_vs_normal.txt', sep ='\\t')"
   ]
  }
 ],
 "metadata": {
  "kernelspec": {
   "display_name": "Python (mypython3)",
   "language": "python",
   "name": "mypython3"
  },
  "language_info": {
   "codemirror_mode": {
    "name": "ipython",
    "version": 3
   },
   "file_extension": ".py",
   "mimetype": "text/x-python",
   "name": "python",
   "nbconvert_exporter": "python",
   "pygments_lexer": "ipython3",
   "version": "3.7.8"
  }
 },
 "nbformat": 4,
 "nbformat_minor": 2
}
