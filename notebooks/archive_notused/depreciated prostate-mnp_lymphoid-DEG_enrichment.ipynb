{
 "cells": [
  {
   "cell_type": "code",
   "execution_count": 1,
   "metadata": {},
   "outputs": [
    {
     "name": "stderr",
     "output_type": "stream",
     "text": [
      "/home/jovyan/my-conda-envs/mypython3/lib/python3.7/site-packages/dask/config.py:161: YAMLLoadWarning: calling yaml.load() without Loader=... is deprecated, as the default Loader is unsafe. Please read https://msg.pyyaml.org/load for full details.\n",
      "  data = yaml.load(f.read()) or {}\n"
     ]
    },
    {
     "name": "stdout",
     "output_type": "stream",
     "text": [
      "scanpy==1.4.5.post2 anndata==0.6.22.post1 umap==0.3.10 numpy==1.17.2 scipy==1.4.1 pandas==0.25.1 scikit-learn==0.22.1 statsmodels==0.11.0rc1 python-igraph==0.7.1 louvain==0.6.1\n"
     ]
    },
    {
     "data": {
      "text/plain": [
       "AnnData object with n_obs × n_vars = 793 × 3000 \n",
       "    obs: 'age', 'barcode', 'batch', 'group', 'highest_GLEASON_score', 'mri_grading', 'name', 'patient', 'pool', 'psa', 'sample', 'scrublet_score', 'scrublet_cluster_score', 'bh_pval', 'is_doublet', 'n_genes', 'percent_mito', 'n_counts', 'S_score', 'G2M_score', 'phase', 'leiden', 'celltype', 'cohort', 'nCount_RNA', 'nFeature_RNA', 'nCount_SCT', 'nFeature_SCT', 'celltype-immune'\n",
       "    var: 'gene_ids', 'feature_types'\n",
       "    uns: 'celltype-immune_colors', 'cohort_colors', 'dendrogram_celltype-immune', 'dendrogram_leiden', 'group_colors', 'leiden', 'leiden_colors', 'neighbors', 'patient_colors', 'pca', 'phase_colors', 'rank_genes_groups', 'umap'\n",
       "    obsm: 'X_pca', 'X_umap'\n",
       "    varm: 'PCs'"
      ]
     },
     "execution_count": 1,
     "metadata": {},
     "output_type": "execute_result"
    }
   ],
   "source": [
    "import numpy as np\n",
    "import pandas as pd\n",
    "import scanpy as sc\n",
    "import scrublet as scr\n",
    "import os\n",
    "import warnings\n",
    "import functools\n",
    "import seaborn as sns\n",
    "import scipy.stats\n",
    "import anndata\n",
    "import matplotlib\n",
    "matplotlib.rcParams['pdf.fonttype'] = 42\n",
    "matplotlib.rcParams['ps.fonttype'] = 42\n",
    "\n",
    "warnings.filterwarnings('ignore')\n",
    "os.chdir(os.path.expanduser('/home/jovyan/Prostate_analysis/scanpy'))\n",
    "sc.settings.verbosity = 3\n",
    "sc.logging.print_versions()\n",
    "\n",
    "results_file = 'out/mnp.integrated.h5ad'\n",
    "\n",
    "adata = sc.read_h5ad(results_file)\n",
    "adata"
   ]
  },
  {
   "cell_type": "code",
   "execution_count": 2,
   "metadata": {},
   "outputs": [
    {
     "name": "stdout",
     "output_type": "stream",
     "text": [
      "ranking genes\n",
      "    finished: added to `.uns['rank_genes_groups']`\n",
      "    'names', sorted np.recarray to be indexed by group ids\n",
      "    'scores', sorted np.recarray to be indexed by group ids\n",
      "    'logfoldchanges', sorted np.recarray to be indexed by group ids\n",
      "    'pvals', sorted np.recarray to be indexed by group ids\n",
      "    'pvals_adj', sorted np.recarray to be indexed by group ids (0:00:00)\n"
     ]
    }
   ],
   "source": [
    "### to perform GSEA of mnp subtypes, first do a wilcoxon test between them\n",
    "ndata = adata[adata.obs['group'] =='normal']\n",
    "sc.tl.rank_genes_groups(ndata, groupby = 'celltype-immune', n_genes = 30000, method = 'wilcoxon')"
   ]
  },
  {
   "cell_type": "code",
   "execution_count": 3,
   "metadata": {},
   "outputs": [],
   "source": [
    "def exportDEres(adata, column, filename):\n",
    "    scores = pd.DataFrame(data = adata.uns['rank_genes_groups']['scores'][column], index = adata.uns['rank_genes_groups']['names'][column])\n",
    "    lfc = pd.DataFrame(data = adata.uns['rank_genes_groups']['logfoldchanges'][column], index = adata.uns['rank_genes_groups']['names'][column])\n",
    "    pvals = pd.DataFrame(data = adata.uns['rank_genes_groups']['pvals'][column], index = adata.uns['rank_genes_groups']['names'][column])\n",
    "    padj = pd.DataFrame(data = adata.uns['rank_genes_groups']['pvals_adj'][column], index = adata.uns['rank_genes_groups']['names'][column])\n",
    "    dfs = [scores, lfc, pvals, padj]\n",
    "    df_final = functools.reduce(lambda left,right: pd.merge(left,right,left_index = True, right_index = True), dfs)\n",
    "    df_final.columns = ['scores', 'logfoldchanges', 'pvals', 'pvals_adj']\n",
    "\n",
    "    df_final.to_csv(filename, sep = '\\t')\n",
    "\n",
    "outpath = 'out/DEG/'\n",
    "if not os.path.exists(outpath):\n",
    "        os.makedirs(outpath)\n",
    "for x in list(set(adata.obs['celltype-immune'])):\n",
    "    exportDEres(ndata, str(x), outpath+str(x)+'_normal.txt')"
   ]
  },
  {
   "cell_type": "code",
   "execution_count": 5,
   "metadata": {
    "scrolled": true
   },
   "outputs": [
    {
     "name": "stdout",
     "output_type": "stream",
     "text": [
      "ranking genes\n",
      "    finished: added to `.uns['rank_genes_groups']`\n",
      "    'names', sorted np.recarray to be indexed by group ids\n",
      "    'scores', sorted np.recarray to be indexed by group ids\n",
      "    'logfoldchanges', sorted np.recarray to be indexed by group ids\n",
      "    'pvals', sorted np.recarray to be indexed by group ids\n",
      "    'pvals_adj', sorted np.recarray to be indexed by group ids (0:00:00)\n",
      "Filtering genes using: min_in_group_fraction: 0.25 min_fold_change: 1, max_out_group_fraction: 0.5\n",
      "ranking genes\n",
      "    finished: added to `.uns['rank_genes_groups']`\n",
      "    'names', sorted np.recarray to be indexed by group ids\n",
      "    'scores', sorted np.recarray to be indexed by group ids\n",
      "    'logfoldchanges', sorted np.recarray to be indexed by group ids\n",
      "    'pvals', sorted np.recarray to be indexed by group ids\n",
      "    'pvals_adj', sorted np.recarray to be indexed by group ids (0:00:00)\n",
      "Filtering genes using: min_in_group_fraction: 0.25 min_fold_change: 1, max_out_group_fraction: 0.5\n",
      "ranking genes\n",
      "    finished: added to `.uns['rank_genes_groups']`\n",
      "    'names', sorted np.recarray to be indexed by group ids\n",
      "    'scores', sorted np.recarray to be indexed by group ids\n",
      "    'logfoldchanges', sorted np.recarray to be indexed by group ids\n",
      "    'pvals', sorted np.recarray to be indexed by group ids\n",
      "    'pvals_adj', sorted np.recarray to be indexed by group ids (0:00:00)\n",
      "Filtering genes using: min_in_group_fraction: 0.25 min_fold_change: 1, max_out_group_fraction: 0.5\n",
      "ranking genes\n",
      "    finished: added to `.uns['rank_genes_groups']`\n",
      "    'names', sorted np.recarray to be indexed by group ids\n",
      "    'scores', sorted np.recarray to be indexed by group ids\n",
      "    'logfoldchanges', sorted np.recarray to be indexed by group ids\n",
      "    'pvals', sorted np.recarray to be indexed by group ids\n",
      "    'pvals_adj', sorted np.recarray to be indexed by group ids (0:00:00)\n",
      "Filtering genes using: min_in_group_fraction: 0.25 min_fold_change: 1, max_out_group_fraction: 0.5\n",
      "ranking genes\n",
      "    finished: added to `.uns['rank_genes_groups']`\n",
      "    'names', sorted np.recarray to be indexed by group ids\n",
      "    'scores', sorted np.recarray to be indexed by group ids\n",
      "    'logfoldchanges', sorted np.recarray to be indexed by group ids\n",
      "    'pvals', sorted np.recarray to be indexed by group ids\n",
      "    'pvals_adj', sorted np.recarray to be indexed by group ids (0:00:00)\n",
      "Filtering genes using: min_in_group_fraction: 0.25 min_fold_change: 1, max_out_group_fraction: 0.5\n",
      "ranking genes\n",
      "    finished: added to `.uns['rank_genes_groups']`\n",
      "    'names', sorted np.recarray to be indexed by group ids\n",
      "    'scores', sorted np.recarray to be indexed by group ids\n",
      "    'logfoldchanges', sorted np.recarray to be indexed by group ids\n",
      "    'pvals', sorted np.recarray to be indexed by group ids\n",
      "    'pvals_adj', sorted np.recarray to be indexed by group ids (0:00:00)\n",
      "Filtering genes using: min_in_group_fraction: 0.25 min_fold_change: 1, max_out_group_fraction: 0.5\n"
     ]
    }
   ],
   "source": [
    "def exportDEres(adata, column, filename):\n",
    "    scores = pd.DataFrame(data = adata.uns['rank_genes_groups_filtered']['scores'][column], index = adata.uns['rank_genes_groups_filtered']['names'][column])\n",
    "    lfc = pd.DataFrame(data = adata.uns['rank_genes_groups_filtered']['logfoldchanges'][column], index = adata.uns['rank_genes_groups_filtered']['names'][column])\n",
    "    pvals = pd.DataFrame(data = adata.uns['rank_genes_groups_filtered']['pvals'][column], index = adata.uns['rank_genes_groups_filtered']['names'][column])\n",
    "    padj = pd.DataFrame(data = adata.uns['rank_genes_groups_filtered']['pvals_adj'][column], index = adata.uns['rank_genes_groups_filtered']['names'][column])\n",
    "    scores = scores.loc[scores.index.dropna()]\n",
    "    lfc = lfc.loc[lfc.index.dropna()]\n",
    "    pvals = pvals.loc[pvals.index.dropna()]\n",
    "    padj = padj.loc[padj.index.dropna()]\n",
    "    dfs = [scores, lfc, pvals, padj]\n",
    "    df_final = functools.reduce(lambda left,right: pd.merge(left,right,left_index = True, right_index = True), dfs)\n",
    "    df_final.columns = ['scores', 'logfoldchanges', 'pvals', 'pvals_adj']\n",
    "\n",
    "    df_final.to_csv(filename, sep = '\\t')\n",
    "# also do the within celltype tumor vs normal DEGs \n",
    "for x in list(set(adata.obs['celltype-immune'])):\n",
    "    xdata = adata[adata.obs['celltype-immune'] == x]\n",
    "    sc.tl.rank_genes_groups(xdata, groupby = 'group', n_genes = 30000, method = 'wilcoxon')\n",
    "    sc.tl.filter_rank_genes_groups(xdata, min_in_group_fraction=0.25, min_fold_change=1, max_out_group_fraction=0.5)\n",
    "    exportDEres(xdata, 'tumor', outpath+str(x)+'_tumor_vs_normal.txt')"
   ]
  },
  {
   "cell_type": "code",
   "execution_count": null,
   "metadata": {},
   "outputs": [],
   "source": [
    "# ### run GSEA on the tumor vs normal?\n",
    "# def rankList(deg_file, remove_ribo_mito = False):\n",
    "#     # read in the files and do some ranking calculations\n",
    "#     deg = pd.read_csv(deg_file, sep = '\\t', index_col = 0)\n",
    "#     if remove_ribo_mito:\n",
    "#         # remove ribosomal and mitochondrial genes\n",
    "#         deg = deg[~deg.index.str.contains('RPS|RPL|MT-')]\n",
    "\n",
    "#     # convert to negative log10 pval\n",
    "#     deg['neglog10pval'] = [-1*np.log10(p) for p in deg['pvals']]\n",
    "#     # convert inf values to max machine number\n",
    "#     try:\n",
    "#         deg['neglog10pval'].replace(np.inf, -1*np.log10(10**-308), inplace = True)\n",
    "#     except:\n",
    "#         pass\n",
    "#     try:    \n",
    "#         deg['neglog10pval'].replace(-np.inf, -1*np.log10(10**308), inplace = True)\n",
    "#     except:\n",
    "#         pass\n",
    "#     deg['rank'] = [p*np.sign(lfc) for p, lfc in zip(deg['neglog10pval'], deg['logfoldchanges'])]\n",
    "#     deg = deg.reset_index(drop = False)\n",
    "#     return(deg[['index', 'rank']])\n",
    "# # quickly prep the files\n",
    "# DC = rankList('out/DEG/DC_tumor_vs_normal.txt', True)\n",
    "# Mac1 = rankList('out/DEG/Mac1_tumor_vs_normal.txt', True)\n",
    "# Mac2 = rankList('out/DEG/Mac2_tumor_vs_normal.txt', True)\n",
    "# MacMT1 = rankList('out/DEG/Mac-MT1_tumor_vs_normal.txt', True)\n",
    "# Mono = rankList('out/DEG/Mono_tumor_vs_normal.txt', True)"
   ]
  },
  {
   "cell_type": "code",
   "execution_count": null,
   "metadata": {},
   "outputs": [],
   "source": [
    "import numpy as np\n",
    "import pandas as pd\n",
    "import scanpy as sc\n",
    "import scrublet as scr\n",
    "import os\n",
    "import warnings\n",
    "import functools\n",
    "import seaborn as sns\n",
    "import scipy.stats\n",
    "import anndata\n",
    "import matplotlib\n",
    "matplotlib.rcParams['pdf.fonttype'] = 42\n",
    "matplotlib.rcParams['ps.fonttype'] = 42\n",
    "\n",
    "warnings.filterwarnings('ignore')\n",
    "os.chdir(os.path.expanduser('/home/jovyan/Prostate_analysis/scanpy'))\n",
    "sc.settings.verbosity = 3\n",
    "sc.logging.print_versions()\n",
    "\n",
    "results_file = 'out/lymphoid.h5ad'\n",
    "\n",
    "adata = sc.read_h5ad(results_file)\n",
    "adata"
   ]
  },
  {
   "cell_type": "code",
   "execution_count": null,
   "metadata": {},
   "outputs": [],
   "source": [
    "### do a wilcoxon test between the lymphoid cells, excluding the B cells\n",
    "ndata = adata[adata.obs['group'] =='normal']\n",
    "sc.tl.rank_genes_groups(ndata, groupby = 'celltype-immune', n_genes = 30000, method = 'wilcoxon')"
   ]
  },
  {
   "cell_type": "code",
   "execution_count": null,
   "metadata": {},
   "outputs": [],
   "source": [
    "def exportDEres(adata, column, filename):\n",
    "    scores = pd.DataFrame(data = adata.uns['rank_genes_groups']['scores'][column], index = adata.uns['rank_genes_groups']['names'][column])\n",
    "    lfc = pd.DataFrame(data = adata.uns['rank_genes_groups']['logfoldchanges'][column], index = adata.uns['rank_genes_groups']['names'][column])\n",
    "    pvals = pd.DataFrame(data = adata.uns['rank_genes_groups']['pvals'][column], index = adata.uns['rank_genes_groups']['names'][column])\n",
    "    padj = pd.DataFrame(data = adata.uns['rank_genes_groups']['pvals_adj'][column], index = adata.uns['rank_genes_groups']['names'][column])\n",
    "    dfs = [scores, lfc, pvals, padj]\n",
    "    df_final = functools.reduce(lambda left,right: pd.merge(left,right,left_index = True, right_index = True), dfs)\n",
    "    df_final.columns = ['scores', 'logfoldchanges', 'pvals', 'pvals_adj']\n",
    "\n",
    "    df_final.to_csv(filename, sep = '\\t')\n",
    "\n",
    "outpath = 'out/DEG/'\n",
    "if not os.path.exists(outpath):\n",
    "        os.makedirs(outpath)\n",
    "for x in list(set(adata.obs['celltype-immune'])):\n",
    "    exportDEres(ndata, str(x), outpath+str(x).replace('/','_')+'_normal.txt')"
   ]
  },
  {
   "cell_type": "code",
   "execution_count": null,
   "metadata": {},
   "outputs": [],
   "source": [
    "# also do the within celltype tumor vs normal DEGs\n",
    "for x in list(set(adata.obs['celltype-immune'])):\n",
    "    xdata = adata[adata.obs['celltype-immune'] == x]\n",
    "    sc.tl.rank_genes_groups(xdata, groupby = 'group', n_genes = 30000, method = 'wilcoxon')\n",
    "    exportDEres(xdata, 'tumor', outpath+str(x).replace('/','_')+'_tumor_vs_normal.txt')"
   ]
  },
  {
   "cell_type": "code",
   "execution_count": null,
   "metadata": {},
   "outputs": [],
   "source": [
    "import numpy as np\n",
    "import pandas as pd\n",
    "import scanpy as sc\n",
    "import scrublet as scr\n",
    "import os\n",
    "import warnings\n",
    "import functools\n",
    "import seaborn as sns\n",
    "import scipy.stats\n",
    "import anndata\n",
    "import matplotlib\n",
    "matplotlib.rcParams['pdf.fonttype'] = 42\n",
    "matplotlib.rcParams['ps.fonttype'] = 42\n",
    "\n",
    "warnings.filterwarnings('ignore')\n",
    "os.chdir(os.path.expanduser('/home/jovyan/Prostate_analysis/scanpy'))\n",
    "sc.settings.verbosity = 3\n",
    "sc.logging.print_versions()\n",
    "\n",
    "results_file = 'out/mnp.integrated.h5ad'\n",
    "\n",
    "adata = sc.read_h5ad(results_file)\n",
    "adata"
   ]
  },
  {
   "cell_type": "code",
   "execution_count": null,
   "metadata": {},
   "outputs": [],
   "source": [
    "### to perform GSEA of mnp subtypes, first do a wilcoxon test between them\n",
    "sc.tl.rank_genes_groups(adata, groupby = 'celltype-immune', n_genes = 30000, method = 'wilcoxon')"
   ]
  },
  {
   "cell_type": "code",
   "execution_count": null,
   "metadata": {},
   "outputs": [],
   "source": [
    "def exportDEres(adata, column, filename):\n",
    "    scores = pd.DataFrame(data = adata.uns['rank_genes_groups']['scores'][column], index = adata.uns['rank_genes_groups']['names'][column])\n",
    "    lfc = pd.DataFrame(data = adata.uns['rank_genes_groups']['logfoldchanges'][column], index = adata.uns['rank_genes_groups']['names'][column])\n",
    "    pvals = pd.DataFrame(data = adata.uns['rank_genes_groups']['pvals'][column], index = adata.uns['rank_genes_groups']['names'][column])\n",
    "    padj = pd.DataFrame(data = adata.uns['rank_genes_groups']['pvals_adj'][column], index = adata.uns['rank_genes_groups']['names'][column])\n",
    "    dfs = [scores, lfc, pvals, padj]\n",
    "    df_final = functools.reduce(lambda left,right: pd.merge(left,right,left_index = True, right_index = True), dfs)\n",
    "    df_final.columns = ['scores', 'logfoldchanges', 'pvals', 'pvals_adj']\n",
    "\n",
    "    df_final.to_csv(filename, sep = '\\t')\n",
    "\n",
    "outpath = 'out/DEG/'\n",
    "if not os.path.exists(outpath):\n",
    "        os.makedirs(outpath)\n",
    "for x in list(set(adata.obs['celltype-immune'])):\n",
    "    exportDEres(adata, str(x), outpath+str(x)+'_normalandtumor.txt')"
   ]
  },
  {
   "cell_type": "code",
   "execution_count": null,
   "metadata": {},
   "outputs": [],
   "source": [
    "### run GSEA on Mac-MT1 for finding the leading edge of the lipid pathways\n",
    "def rankList(deg_file, remove_ribo_mito = False):\n",
    "    # read in the files and do some ranking calculations\n",
    "    deg = pd.read_csv(deg_file, sep = '\\t', index_col = 0)\n",
    "    if remove_ribo_mito:\n",
    "        # remove ribosomal and mitochondrial genes\n",
    "        deg = deg[~deg.index.str.contains('RPS|RPL|MT-')]\n",
    "\n",
    "    # convert to negative log10 pval\n",
    "    deg['neglog10pval'] = [-1*np.log10(p) for p in deg['pvals']]\n",
    "    # convert inf values to max machine number\n",
    "    try:\n",
    "        deg['neglog10pval'].replace(np.inf, -1*np.log10(10**-308), inplace = True)\n",
    "    except:\n",
    "        pass\n",
    "    try:    \n",
    "        deg['neglog10pval'].replace(-np.inf, -1*np.log10(10**308), inplace = True)\n",
    "    except:\n",
    "        pass\n",
    "    deg['rank'] = [p*np.sign(lfc) for p, lfc in zip(deg['neglog10pval'], deg['logfoldchanges'])]\n",
    "    deg = deg.reset_index(drop = False)\n",
    "    return(deg[['index', 'rank']])\n",
    "# quickly prep the files\n",
    "MacMT1 = rankList('out/DEG/Mac-MT1_normal.txt', True)"
   ]
  },
  {
   "cell_type": "code",
   "execution_count": null,
   "metadata": {},
   "outputs": [],
   "source": [
    "# run preranked gsea\n",
    "import gseapy as gp\n",
    "pre_res = gp.prerank(rnk=MacMT1,\n",
    "                     gene_sets='dataset/Macrophage_stim_markers_Human.gmt',\n",
    "                     processes=10,\n",
    "                     min_size=0,\n",
    "                     max_size=1000,\n",
    "                     permutation_num=1000, # reduce number to speed up testing\n",
    "                     no_plot=True,\n",
    "                     verbose=True)\n",
    "pre_res.res2d.to_csv('out/GSEA/Mac-MT1_normal_macstim_gsea.txt', sep ='\\t')"
   ]
  },
  {
   "cell_type": "code",
   "execution_count": null,
   "metadata": {},
   "outputs": [],
   "source": [
    "# run preranked gsea\n",
    "import gseapy as gp\n",
    "pre_res = gp.prerank(rnk=MacMT1,\n",
    "                     gene_sets='dataset/Hallmarks_metabolism_genesets.gmt',\n",
    "                     processes=10,\n",
    "                     min_size=0,\n",
    "                     max_size=1000,\n",
    "                     permutation_num=1000, # reduce number to speed up testing\n",
    "                     no_plot=True,\n",
    "                     verbose=True)\n",
    "pre_res.res2d.to_csv('out/GSEA/Mac-MT1_normal_hallmark_metabolism_gsea.txt', sep ='\\t')"
   ]
  },
  {
   "cell_type": "code",
   "execution_count": null,
   "metadata": {},
   "outputs": [],
   "source": [
    "### tumor vs normal\n",
    "import pandas as pd\n",
    "import numpy as np\n",
    "### run GSEA on the tumor vs normal on Mac-MT1 for just the Hallmark metabolism genes\n",
    "def rankList(deg_file, remove_ribo_mito = False):\n",
    "    # read in the files and do some ranking calculations\n",
    "    deg = pd.read_csv(deg_file, sep = '\\t', index_col = 0)\n",
    "    if remove_ribo_mito:\n",
    "        # remove ribosomal and mitochondrial genes\n",
    "        deg = deg[~deg.index.str.contains('RPS|RPL|MT-')]\n",
    "\n",
    "    # convert to negative log10 pval\n",
    "    deg['neglog10pval'] = [-1*np.log10(p) for p in deg['pvals']]\n",
    "    # convert inf values to max machine number\n",
    "    try:\n",
    "        deg['neglog10pval'].replace(np.inf, -1*np.log10(10**-308), inplace = True)\n",
    "    except:\n",
    "        pass\n",
    "    try:    \n",
    "        deg['neglog10pval'].replace(-np.inf, -1*np.log10(10**308), inplace = True)\n",
    "    except:\n",
    "        pass\n",
    "    deg['rank'] = [p*np.sign(lfc) for p, lfc in zip(deg['neglog10pval'], deg['logfoldchanges'])]\n",
    "    deg = deg.reset_index(drop = False)\n",
    "    return(deg[['index', 'rank']])\n",
    "# quickly prep the files\n",
    "MacMT1 = rankList('out/DEG/Mac-MT1_tumor_vs_normal.txt', True)"
   ]
  },
  {
   "cell_type": "code",
   "execution_count": null,
   "metadata": {},
   "outputs": [],
   "source": [
    "# run preranked gsea\n",
    "import gseapy as gp\n",
    "pre_res = gp.prerank(rnk=MacMT1,\n",
    "                     gene_sets='dataset/Hallmarks_metabolism_genesets.gmt',\n",
    "                     processes=10,\n",
    "                     min_size=0,\n",
    "                     max_size=1000,\n",
    "                     permutation_num=1000, # reduce number to speed up testing\n",
    "                     no_plot=True,\n",
    "                     verbose=True)\n",
    "pre_res.res2d.to_csv('out/GSEA/Mac-MT1_tumor_vs_normal_hallmark_metabolism_gsea.txt', sep ='\\t')"
   ]
  },
  {
   "cell_type": "code",
   "execution_count": null,
   "metadata": {},
   "outputs": [],
   "source": [
    "pre_res = gp.prerank(rnk=MacMT1,\n",
    "                     gene_sets='dataset/h.all.v7.0.symbols.gmt',\n",
    "                     processes=10,\n",
    "                     min_size=0,\n",
    "                     max_size=1000,\n",
    "                     permutation_num=1000, # reduce number to speed up testing\n",
    "                     no_plot=True,\n",
    "                     verbose=True)\n",
    "pre_res.res2d.to_csv('out/GSEA/Mac-MT1_tumor_vs_normal_hallmarks_gsea.txt', sep ='\\t')"
   ]
  },
  {
   "cell_type": "code",
   "execution_count": null,
   "metadata": {},
   "outputs": [],
   "source": [
    "pre_res = gp.prerank(rnk=MacMT1,\n",
    "                     gene_sets='dataset/Macrophage_stim_markers_Human.gmt',\n",
    "                     processes=10,\n",
    "                     min_size=0,\n",
    "                     max_size=1000,\n",
    "                     permutation_num=1000, # reduce number to speed up testing\n",
    "                     no_plot=True,\n",
    "                     verbose=True)\n",
    "pre_res.res2d.to_csv('out/GSEA/Mac-MT1_tumor_vs_normal_macstim_gsea.txt', sep ='\\t')"
   ]
  },
  {
   "cell_type": "code",
   "execution_count": null,
   "metadata": {},
   "outputs": [],
   "source": []
  }
 ],
 "metadata": {
  "kernelspec": {
   "display_name": "Python (mypython3)",
   "language": "python",
   "name": "mypython3"
  },
  "language_info": {
   "codemirror_mode": {
    "name": "ipython",
    "version": 3
   },
   "file_extension": ".py",
   "mimetype": "text/x-python",
   "name": "python",
   "nbconvert_exporter": "python",
   "pygments_lexer": "ipython3",
   "version": "3.7.6"
  }
 },
 "nbformat": 4,
 "nbformat_minor": 2
}
