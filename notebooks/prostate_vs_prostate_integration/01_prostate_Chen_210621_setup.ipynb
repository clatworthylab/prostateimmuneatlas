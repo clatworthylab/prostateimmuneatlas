{
 "cells": [
  {
   "cell_type": "code",
   "execution_count": 1,
   "id": "stupid-negative",
   "metadata": {},
   "outputs": [
    {
     "name": "stdout",
     "output_type": "stream",
     "text": [
      "scanpy==1.7.1 anndata==0.7.5 umap==0.5.1 numpy==1.20.2 scipy==1.6.3 pandas==1.2.4 scikit-learn==0.24.2 statsmodels==0.12.1 python-igraph==0.8.3 leidenalg==0.8.3\n"
     ]
    }
   ],
   "source": [
    "import numpy as np\n",
    "import pandas as pd\n",
    "import scanpy as sc\n",
    "# import scrublet as scr\n",
    "import os\n",
    "import warnings\n",
    "import functools\n",
    "import seaborn as sns\n",
    "import scipy.stats\n",
    "import anndata\n",
    "import tools\n",
    "\n",
    "warnings.filterwarnings('ignore')\n",
    "os.chdir(os.path.expanduser('/lustre/scratch117/cellgen/team297/kt16/Prostate_analysis/scanpy'))\n",
    "sc.settings.verbosity = 3\n",
    "sc.logging.print_header()"
   ]
  },
  {
   "cell_type": "code",
   "execution_count": 2,
   "id": "91483347",
   "metadata": {},
   "outputs": [],
   "source": [
    "adata13 = sc.read_h5ad('dataset/Chen/chen_13.h5ad')\n",
    "adata13.obs['study'] = 'Chen et al.'\n",
    "adata13.obs['sample'] = [x.split('-')[1] for x in adata13.obs['barcode']]\n",
    "pt_dict = {'1':'patient_ID_59',\n",
    "'2':'patient_ID_62',\n",
    "'3':'patient_ID_74',\n",
    "'4':'patient_ID_72',\n",
    "'5':'patient_ID_73',\n",
    "'6':'patient_ID_71',\n",
    "'7':'patient_ID_75',\n",
    "'8':'patient_ID_77',\n",
    "'9':'patient_ID_76',\n",
    "'10':'patient_ID_54',\n",
    "'11':'patient_ID_55',\n",
    "'12':'patient_ID_56',\n",
    "'13':'patient_ID_53'}\n",
    "adata13.obs['sample'] = [pt_dict[x] for x in adata13.obs['sample']]\n",
    "adata13.obs['group'] = 'PRAD'\n",
    "adata13.obs_names = [a + '_' + b for a,b in zip(adata13.obs['sample'], adata13.obs_names)]\n",
    "adata13.var_names_make_unique()"
   ]
  },
  {
   "cell_type": "code",
   "execution_count": 3,
   "id": "49c059c5",
   "metadata": {},
   "outputs": [
    {
     "name": "stderr",
     "output_type": "stream",
     "text": [
      "... storing 'study' as categorical\n",
      "... storing 'sample' as categorical\n",
      "... storing 'group' as categorical\n"
     ]
    }
   ],
   "source": [
    "adata13.write_h5ad('dataset/Chen/chen_13.h5ad', compression = 'gzip')"
   ]
  },
  {
   "cell_type": "code",
   "execution_count": 4,
   "id": "65598160",
   "metadata": {},
   "outputs": [],
   "source": [
    "adata11 = sc.read_h5ad('dataset/Chen/chen_11.h5ad')\n",
    "adata11.obs['study'] = 'Chen et al.'\n",
    "adata11.obs['sample'] = [x.split('_')[0] for x in adata11.obs['barcode']]\n",
    "adata11.obs['group'] = 'CRPC-Normal'\n",
    "adata11.var_names_make_unique()"
   ]
  },
  {
   "cell_type": "code",
   "execution_count": 5,
   "id": "c3ee3e08",
   "metadata": {},
   "outputs": [
    {
     "name": "stderr",
     "output_type": "stream",
     "text": [
      "... storing 'study' as categorical\n",
      "... storing 'sample' as categorical\n",
      "... storing 'group' as categorical\n"
     ]
    }
   ],
   "source": [
    "adata11.write_h5ad('dataset/Chen/chen_11.h5ad', compression = 'gzip')"
   ]
  },
  {
   "cell_type": "code",
   "execution_count": 6,
   "id": "05ae865c",
   "metadata": {},
   "outputs": [
    {
     "data": {
      "text/plain": [
       "AnnData object with n_obs × n_vars = 36424 × 25044\n",
       "    obs: 'barcode', 'study', 'sample', 'group'\n",
       "    var: 'GeneID'"
      ]
     },
     "execution_count": 6,
     "metadata": {},
     "output_type": "execute_result"
    }
   ],
   "source": [
    "adata13"
   ]
  },
  {
   "cell_type": "code",
   "execution_count": 7,
   "id": "e52a3408",
   "metadata": {},
   "outputs": [
    {
     "data": {
      "text/plain": [
       "AnnData object with n_obs × n_vars = 46117 × 39899\n",
       "    obs: 'barcode', 'study', 'sample', 'group'\n",
       "    var: 'GeneID'"
      ]
     },
     "execution_count": 7,
     "metadata": {},
     "output_type": "execute_result"
    }
   ],
   "source": [
    "adata11"
   ]
  },
  {
   "cell_type": "code",
   "execution_count": null,
   "id": "d917c01c",
   "metadata": {},
   "outputs": [],
   "source": []
  }
 ],
 "metadata": {
  "kernelspec": {
   "display_name": "Python 3",
   "language": "python",
   "name": "python3"
  },
  "language_info": {
   "codemirror_mode": {
    "name": "ipython",
    "version": 3
   },
   "file_extension": ".py",
   "mimetype": "text/x-python",
   "name": "python",
   "nbconvert_exporter": "python",
   "pygments_lexer": "ipython3",
   "version": "3.8.10"
  }
 },
 "nbformat": 4,
 "nbformat_minor": 5
}
