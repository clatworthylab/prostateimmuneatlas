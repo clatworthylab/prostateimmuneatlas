{
 "cells": [
  {
   "cell_type": "code",
   "execution_count": 1,
   "metadata": {},
   "outputs": [
    {
     "name": "stdout",
     "output_type": "stream",
     "text": [
      "scanpy==1.7.1 anndata==0.7.5 umap==0.5.1 numpy==1.20.2 scipy==1.6.3 pandas==1.2.4 scikit-learn==0.24.2 statsmodels==0.12.1 python-igraph==0.8.3 leidenalg==0.8.3\n"
     ]
    }
   ],
   "source": [
    "import numpy as np\n",
    "import pandas as pd\n",
    "import scanpy as sc\n",
    "# import scrublet as scr\n",
    "import os\n",
    "import warnings\n",
    "import functools\n",
    "import seaborn as sns\n",
    "import scipy.stats\n",
    "import anndata\n",
    "import tools\n",
    "\n",
    "warnings.filterwarnings('ignore')\n",
    "os.chdir(os.path.expanduser('/lustre/scratch117/cellgen/team297/kt16/Prostate_analysis/scanpy'))\n",
    "sc.settings.verbosity = 3\n",
    "sc.logging.print_header()"
   ]
  },
  {
   "cell_type": "code",
   "execution_count": 2,
   "metadata": {},
   "outputs": [],
   "source": [
    "from collections import defaultdict\n",
    "import scipy.sparse\n",
    "import re\n",
    "\n",
    "cdata = defaultdict(list)\n",
    "for f in [f for f in os.listdir('dataset/Crowley') if re.search('.gz', f)]:\n",
    "    cdata[f] = pd.read_csv('dataset/Crowley/'+f, sep = '\\t', index_col = 0, compression='gzip')\n",
    "    var = pd.DataFrame(index = list(cdata[f].index))\n",
    "    obs = pd.DataFrame(index = list(cdata[f].columns))\n",
    "    obs['barcode'] = obs.index\n",
    "    obs['study'] = 'Crowley et al.'\n",
    "    obs['sample'] = f.split('_')[1]\n",
    "    obs['group'] = 'tumor'\n",
    "    cdata[f] = sc.AnnData(X = scipy.sparse.csr_matrix(cdata[f]).T, obs = obs, var = var)\n",
    "    cdata[f].var_names_make_unique()\n",
    "    cdata[f].obs_names = [f + '_' + x for x in cdata[f].obs_names]"
   ]
  },
  {
   "cell_type": "code",
   "execution_count": 8,
   "metadata": {},
   "outputs": [
    {
     "data": {
      "text/plain": [
       "AnnData object with n_obs × n_vars = 6728 × 19373\n",
       "    obs: 'barcode', 'study', 'sample', 'group'"
      ]
     },
     "execution_count": 8,
     "metadata": {},
     "output_type": "execute_result"
    }
   ],
   "source": [
    "import anndata as ad\n",
    "adata = ad.concat([cdata[f] for f in cdata])\n",
    "adata"
   ]
  },
  {
   "cell_type": "code",
   "execution_count": 9,
   "metadata": {},
   "outputs": [
    {
     "name": "stderr",
     "output_type": "stream",
     "text": [
      "... storing 'barcode' as categorical\n",
      "... storing 'study' as categorical\n",
      "... storing 'sample' as categorical\n",
      "... storing 'group' as categorical\n"
     ]
    }
   ],
   "source": [
    "adata.write_h5ad('dataset/Crowley/crowley.h5ad', compression = 'gzip')"
   ]
  },
  {
   "cell_type": "code",
   "execution_count": null,
   "metadata": {},
   "outputs": [],
   "source": []
  }
 ],
 "metadata": {
  "kernelspec": {
   "display_name": "Python 3",
   "language": "python",
   "name": "python3"
  },
  "language_info": {
   "codemirror_mode": {
    "name": "ipython",
    "version": 3
   },
   "file_extension": ".py",
   "mimetype": "text/x-python",
   "name": "python",
   "nbconvert_exporter": "python",
   "pygments_lexer": "ipython3",
   "version": "3.8.8"
  }
 },
 "nbformat": 4,
 "nbformat_minor": 4
}
