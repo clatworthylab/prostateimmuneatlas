{
 "cells": [
  {
   "cell_type": "code",
   "execution_count": 1,
   "id": "c8dfe070",
   "metadata": {},
   "outputs": [
    {
     "name": "stderr",
     "output_type": "stream",
     "text": [
      "Attaching SeuratObject\n",
      "\n",
      "\n",
      "Attaching package: ‘dplyr’\n",
      "\n",
      "\n",
      "The following objects are masked from ‘package:stats’:\n",
      "\n",
      "    filter, lag\n",
      "\n",
      "\n",
      "The following objects are masked from ‘package:base’:\n",
      "\n",
      "    intersect, setdiff, setequal, union\n",
      "\n",
      "\n",
      "Loading required package: SummarizedExperiment\n",
      "\n",
      "Loading required package: MatrixGenerics\n",
      "\n",
      "Loading required package: matrixStats\n",
      "\n",
      "\n",
      "Attaching package: ‘matrixStats’\n",
      "\n",
      "\n",
      "The following object is masked from ‘package:dplyr’:\n",
      "\n",
      "    count\n",
      "\n",
      "\n",
      "\n",
      "Attaching package: ‘MatrixGenerics’\n",
      "\n",
      "\n",
      "The following objects are masked from ‘package:matrixStats’:\n",
      "\n",
      "    colAlls, colAnyNAs, colAnys, colAvgsPerRowSet, colCollapse,\n",
      "    colCounts, colCummaxs, colCummins, colCumprods, colCumsums,\n",
      "    colDiffs, colIQRDiffs, colIQRs, colLogSumExps, colMadDiffs,\n",
      "    colMads, colMaxs, colMeans2, colMedians, colMins, colOrderStats,\n",
      "    colProds, colQuantiles, colRanges, colRanks, colSdDiffs, colSds,\n",
      "    colSums2, colTabulates, colVarDiffs, colVars, colWeightedMads,\n",
      "    colWeightedMeans, colWeightedMedians, colWeightedSds,\n",
      "    colWeightedVars, rowAlls, rowAnyNAs, rowAnys, rowAvgsPerColSet,\n",
      "    rowCollapse, rowCounts, rowCummaxs, rowCummins, rowCumprods,\n",
      "    rowCumsums, rowDiffs, rowIQRDiffs, rowIQRs, rowLogSumExps,\n",
      "    rowMadDiffs, rowMads, rowMaxs, rowMeans2, rowMedians, rowMins,\n",
      "    rowOrderStats, rowProds, rowQuantiles, rowRanges, rowRanks,\n",
      "    rowSdDiffs, rowSds, rowSums2, rowTabulates, rowVarDiffs, rowVars,\n",
      "    rowWeightedMads, rowWeightedMeans, rowWeightedMedians,\n",
      "    rowWeightedSds, rowWeightedVars\n",
      "\n",
      "\n",
      "Loading required package: GenomicRanges\n",
      "\n",
      "Loading required package: stats4\n",
      "\n",
      "Loading required package: BiocGenerics\n",
      "\n",
      "Loading required package: parallel\n",
      "\n",
      "\n",
      "Attaching package: ‘BiocGenerics’\n",
      "\n",
      "\n",
      "The following objects are masked from ‘package:parallel’:\n",
      "\n",
      "    clusterApply, clusterApplyLB, clusterCall, clusterEvalQ,\n",
      "    clusterExport, clusterMap, parApply, parCapply, parLapply,\n",
      "    parLapplyLB, parRapply, parSapply, parSapplyLB\n",
      "\n",
      "\n",
      "The following objects are masked from ‘package:dplyr’:\n",
      "\n",
      "    combine, intersect, setdiff, union\n",
      "\n",
      "\n",
      "The following objects are masked from ‘package:stats’:\n",
      "\n",
      "    IQR, mad, sd, var, xtabs\n",
      "\n",
      "\n",
      "The following objects are masked from ‘package:base’:\n",
      "\n",
      "    anyDuplicated, append, as.data.frame, basename, cbind, colnames,\n",
      "    dirname, do.call, duplicated, eval, evalq, Filter, Find, get, grep,\n",
      "    grepl, intersect, is.unsorted, lapply, Map, mapply, match, mget,\n",
      "    order, paste, pmax, pmax.int, pmin, pmin.int, Position, rank,\n",
      "    rbind, Reduce, rownames, sapply, setdiff, sort, table, tapply,\n",
      "    union, unique, unsplit, which.max, which.min\n",
      "\n",
      "\n",
      "Loading required package: S4Vectors\n",
      "\n",
      "\n",
      "Attaching package: ‘S4Vectors’\n",
      "\n",
      "\n",
      "The following objects are masked from ‘package:dplyr’:\n",
      "\n",
      "    first, rename\n",
      "\n",
      "\n",
      "The following object is masked from ‘package:base’:\n",
      "\n",
      "    expand.grid\n",
      "\n",
      "\n",
      "Loading required package: IRanges\n",
      "\n",
      "\n",
      "Attaching package: ‘IRanges’\n",
      "\n",
      "\n",
      "The following objects are masked from ‘package:dplyr’:\n",
      "\n",
      "    collapse, desc, slice\n",
      "\n",
      "\n",
      "Loading required package: GenomeInfoDb\n",
      "\n",
      "Loading required package: Biobase\n",
      "\n",
      "Welcome to Bioconductor\n",
      "\n",
      "    Vignettes contain introductory material; view with\n",
      "    'browseVignettes()'. To cite Bioconductor, see\n",
      "    'citation(\"Biobase\")', and for packages 'citation(\"pkgname\")'.\n",
      "\n",
      "\n",
      "\n",
      "Attaching package: ‘Biobase’\n",
      "\n",
      "\n",
      "The following object is masked from ‘package:MatrixGenerics’:\n",
      "\n",
      "    rowMedians\n",
      "\n",
      "\n",
      "The following objects are masked from ‘package:matrixStats’:\n",
      "\n",
      "    anyMissing, rowMedians\n",
      "\n",
      "\n",
      "\n",
      "Attaching package: ‘SummarizedExperiment’\n",
      "\n",
      "\n",
      "The following object is masked from ‘package:SeuratObject’:\n",
      "\n",
      "    Assays\n",
      "\n",
      "\n",
      "The following object is masked from ‘package:Seurat’:\n",
      "\n",
      "    Assays\n",
      "\n",
      "\n"
     ]
    },
    {
     "data": {
      "text/html": [
       "<style>\n",
       ".list-inline {list-style: none; margin:0; padding: 0}\n",
       ".list-inline>li {display: inline-block}\n",
       ".list-inline>li:not(:last-child)::after {content: \"\\00b7\"; padding: 0 .5ex}\n",
       "</style>\n",
       "<ol class=list-inline><li>'henry.immune.h5ad'</li><li>'henry.immune_raw.h5ad'</li><li>'henry_merge_sc10x_cellreports_nonimmune.h5ad'</li><li>'henry_merge_sc10x_cellreports.RDS'</li></ol>\n"
      ],
      "text/latex": [
       "\\begin{enumerate*}\n",
       "\\item 'henry.immune.h5ad'\n",
       "\\item 'henry.immune\\_raw.h5ad'\n",
       "\\item 'henry\\_merge\\_sc10x\\_cellreports\\_nonimmune.h5ad'\n",
       "\\item 'henry\\_merge\\_sc10x\\_cellreports.RDS'\n",
       "\\end{enumerate*}\n"
      ],
      "text/markdown": [
       "1. 'henry.immune.h5ad'\n",
       "2. 'henry.immune_raw.h5ad'\n",
       "3. 'henry_merge_sc10x_cellreports_nonimmune.h5ad'\n",
       "4. 'henry_merge_sc10x_cellreports.RDS'\n",
       "\n",
       "\n"
      ],
      "text/plain": [
       "[1] \"henry.immune.h5ad\"                           \n",
       "[2] \"henry.immune_raw.h5ad\"                       \n",
       "[3] \"henry_merge_sc10x_cellreports_nonimmune.h5ad\"\n",
       "[4] \"henry_merge_sc10x_cellreports.RDS\"           "
      ]
     },
     "metadata": {},
     "output_type": "display_data"
    }
   ],
   "source": [
    "library(Seurat)\n",
    "library(dplyr)\n",
    "library(SingleCellExperiment)\n",
    "setwd('/lustre/scratch117/cellgen/team297/kt16/Prostate_analysis/scanpy/dataset/Henry')\n",
    "list.files()"
   ]
  },
  {
   "cell_type": "code",
   "execution_count": 2,
   "id": "2068b4f3",
   "metadata": {},
   "outputs": [
    {
     "name": "stderr",
     "output_type": "stream",
     "text": [
      "Validating object structure\n",
      "\n",
      "Updating object slots\n",
      "\n",
      "Ensuring keys are in the proper strucutre\n",
      "\n",
      "Ensuring feature names don't have underscores or pipes\n",
      "\n",
      "Object representation is consistent with the most current Seurat version\n",
      "\n"
     ]
    },
    {
     "data": {
      "text/plain": [
       "An object of class Seurat \n",
       "24339 features across 91169 samples within 1 assay \n",
       "Active assay: RNA (24339 features, 0 variable features)"
      ]
     },
     "metadata": {},
     "output_type": "display_data"
    }
   ],
   "source": [
    "henry <- readRDS('henry_merge_sc10x_cellreports.RDS')\n",
    "henry <- UpdateSeuratObject(henry)\n",
    "henry"
   ]
  },
  {
   "cell_type": "code",
   "execution_count": 11,
   "id": "e8b2fe6e",
   "metadata": {},
   "outputs": [],
   "source": [
    "# convert to h5ad\n",
    "obs <- henry@meta.data"
   ]
  },
  {
   "cell_type": "code",
   "execution_count": 20,
   "id": "6f271717",
   "metadata": {},
   "outputs": [],
   "source": [
    "var <- data.frame(row.names = row.names(henry), GeneId = row.names(henry))"
   ]
  },
  {
   "cell_type": "code",
   "execution_count": 16,
   "id": "0b366080",
   "metadata": {},
   "outputs": [],
   "source": [
    "library(reticulate)\n",
    "ad = import('anndata')"
   ]
  },
  {
   "cell_type": "code",
   "execution_count": 17,
   "id": "14927376",
   "metadata": {},
   "outputs": [],
   "source": [
    "counts = GetAssayData(henry, slot = 'counts')"
   ]
  },
  {
   "cell_type": "code",
   "execution_count": 18,
   "id": "1c7ea629",
   "metadata": {
    "scrolled": true
   },
   "outputs": [
    {
     "data": {
      "text/html": [
       "'dgCMatrix'"
      ],
      "text/latex": [
       "'dgCMatrix'"
      ],
      "text/markdown": [
       "'dgCMatrix'"
      ],
      "text/plain": [
       "[1] \"dgCMatrix\"\n",
       "attr(,\"package\")\n",
       "[1] \"Matrix\""
      ]
     },
     "metadata": {},
     "output_type": "display_data"
    }
   ],
   "source": [
    "class(counts)"
   ]
  },
  {
   "cell_type": "code",
   "execution_count": 24,
   "id": "74a0812e",
   "metadata": {},
   "outputs": [
    {
     "data": {
      "text/plain": [
       "AnnData object with n_obs × n_vars = 91169 × 24339\n",
       "    obs: 'samples', 'orig.ident', 'S.Score', 'G2M.Score', 'Phase', 'old.ident', 'percent.mito', 'res.1', 'tree.ident', 'res1', 'ALL.Stress', 'res1-Stress', 'res.0.5', 'res0.5', 'Lin', 'Merge_Epi.dws.sc_St.dws.sc', 'Merge_Epi.dws.sc_St.dws.sc_NE', 'msamples', 'patient', 'res.0.2', 'res0.2', 'Merge_Epi.dws_St.go', 'Merge_Epi.dws_St.go_NE', 'mLin', 'nCount_RNA', 'nFeature_RNA', 'celltype'\n",
       "    var: 'GeneId'"
      ]
     },
     "metadata": {},
     "output_type": "display_data"
    }
   ],
   "source": [
    "adata = ad$AnnData(X = Matrix::t(counts), obs = obs, var = var)\n",
    "adata"
   ]
  },
  {
   "cell_type": "code",
   "execution_count": 26,
   "id": "133f1aca",
   "metadata": {},
   "outputs": [],
   "source": [
    "adata$write_h5ad('henry_merge_sc10x_cellreports.h5ad', compression = 'gzip')"
   ]
  },
  {
   "cell_type": "code",
   "execution_count": null,
   "id": "a01bbc9f",
   "metadata": {},
   "outputs": [],
   "source": []
  }
 ],
 "metadata": {
  "kernelspec": {
   "display_name": "R",
   "language": "R",
   "name": "ir"
  },
  "language_info": {
   "codemirror_mode": "r",
   "file_extension": ".r",
   "mimetype": "text/x-r-source",
   "name": "R",
   "pygments_lexer": "r",
   "version": "4.0.3"
  }
 },
 "nbformat": 4,
 "nbformat_minor": 5
}
